{
  "nbformat": 4,
  "nbformat_minor": 0,
  "metadata": {
    "colab": {
      "name": "IBM_speech to text.ipynb",
      "version": "0.3.2",
      "provenance": [],
      "include_colab_link": true
    },
    "kernelspec": {
      "name": "python3",
      "display_name": "Python 3"
    }
  },
  "cells": [
    {
      "cell_type": "markdown",
      "metadata": {
        "id": "view-in-github",
        "colab_type": "text"
      },
      "source": [
        "<a href=\"https://colab.research.google.com/github/kwon0136/First_Proejct/blob/master/IBM_speech_to_text.ipynb\" target=\"_parent\"><img src=\"https://colab.research.google.com/assets/colab-badge.svg\" alt=\"Open In Colab\"/></a>"
      ]
    },
    {
      "metadata": {
        "id": "pJfOFlItjkwt",
        "colab_type": "code",
        "colab": {}
      },
      "cell_type": "code",
      "source": [
        "import requests \n",
        "import json \n",
        "import sys \n",
        "import subprocess"
      ],
      "execution_count": 0,
      "outputs": []
    },
    {
      "metadata": {
        "id": "eMlpHbyEjmZc",
        "colab_type": "code",
        "colab": {}
      },
      "cell_type": "code",
      "source": [
        "# IBM bluemix API url \n",
        "url = 'https://gateway-tok.watsonplatform.net/speech-to-text/api'"
      ],
      "execution_count": 0,
      "outputs": []
    },
    {
      "metadata": {
        "id": "xS_kS4tfjs-j",
        "colab_type": "code",
        "colab": {}
      },
      "cell_type": "code",
      "source": [
        "# bluemix authentication username \n",
        "username = 'kwon0136@gmail.com'"
      ],
      "execution_count": 0,
      "outputs": []
    },
    {
      "metadata": {
        "id": "x3ojgdKekCnj",
        "colab_type": "code",
        "colab": {}
      },
      "cell_type": "code",
      "source": [
        "# bluemix authentication password \n",
        "password = 'Gksmfl2822@@'"
      ],
      "execution_count": 0,
      "outputs": []
    },
    {
      "metadata": {
        "id": "paPon3uLkKfF",
        "colab_type": "code",
        "colab": {}
      },
      "cell_type": "code",
      "source": [
        "headers={'Content-Type': 'test_8.mp3'}"
      ],
      "execution_count": 0,
      "outputs": []
    },
    {
      "metadata": {
        "id": "XQ2trv_OkOcs",
        "colab_type": "code",
        "colab": {}
      },
      "cell_type": "code",
      "source": [
        "# Open audio file(.wav) in wave format \n",
        "audio = open('test_8.mp3', 'rb')"
      ],
      "execution_count": 0,
      "outputs": []
    },
    {
      "metadata": {
        "id": "sRaUeEgMkT0k",
        "colab_type": "code",
        "colab": {}
      },
      "cell_type": "code",
      "source": [
        "import requests \n",
        "import json \n",
        "import sys \n",
        "import subprocess\n",
        "\n",
        "# IBM bluemix API url \n",
        "url = 'https://gateway-tok.watsonplatform.net/speech-to-text/api'\n",
        "\n",
        "# bluemix authentication username \n",
        "username = 'kwon0136@gmail.com'\n",
        "\n",
        "# bluemix authentication password \n",
        "password = 'Gksmfl2822@@'\n",
        "\n",
        "headers={'Content-Type': 'test_8.mp3'}\n",
        "\n",
        "# Open audio file(.wav) in wave format \n",
        "audio = open('test_8.mp3', 'rb')\n",
        "\n",
        "r = requests.post(url, data=audio, headers=headers, auth=(username, password))\n",
        "\n",
        "# create the json file out of \n",
        "with open('/home/vithal/Documents/speeh-to-text/sample.json', 'w') as f: \n",
        " sys.stdout = f \n",
        " print(r.text)\n"
      ],
      "execution_count": 0,
      "outputs": []
    },
    {
      "metadata": {
        "id": "GNJnPD3YkWD_",
        "colab_type": "code",
        "colab": {
          "base_uri": "https://localhost:8080/",
          "height": 208
        },
        "outputId": "67713d14-100e-4d29-e286-5d72dac6f9c8"
      },
      "cell_type": "code",
      "source": [
        "# create the json file out of \n",
        "with open('/home/vithal/Documents/speeh-to-text/sample.json', 'w') as f: \n",
        " sys.stdout = f \n",
        " print(r.text)"
      ],
      "execution_count": 8,
      "outputs": [
        {
          "output_type": "error",
          "ename": "FileNotFoundError",
          "evalue": "ignored",
          "traceback": [
            "\u001b[0;31m---------------------------------------------------------------------------\u001b[0m",
            "\u001b[0;31mFileNotFoundError\u001b[0m                         Traceback (most recent call last)",
            "\u001b[0;32m<ipython-input-8-d334160d1e96>\u001b[0m in \u001b[0;36m<module>\u001b[0;34m()\u001b[0m\n\u001b[0;32m----> 1\u001b[0;31m \u001b[0;32mwith\u001b[0m \u001b[0mopen\u001b[0m\u001b[0;34m(\u001b[0m\u001b[0;34m'/home/vithal/Documents/speeh-to-text/sample.json'\u001b[0m\u001b[0;34m,\u001b[0m \u001b[0;34m'w'\u001b[0m\u001b[0;34m)\u001b[0m \u001b[0;32mas\u001b[0m \u001b[0mf\u001b[0m\u001b[0;34m:\u001b[0m\u001b[0;34m\u001b[0m\u001b[0;34m\u001b[0m\u001b[0m\n\u001b[0m\u001b[1;32m      2\u001b[0m  \u001b[0msys\u001b[0m\u001b[0;34m.\u001b[0m\u001b[0mstdout\u001b[0m \u001b[0;34m=\u001b[0m \u001b[0mf\u001b[0m\u001b[0;34m\u001b[0m\u001b[0;34m\u001b[0m\u001b[0m\n\u001b[1;32m      3\u001b[0m  \u001b[0mprint\u001b[0m\u001b[0;34m(\u001b[0m\u001b[0mr\u001b[0m\u001b[0;34m.\u001b[0m\u001b[0mtext\u001b[0m\u001b[0;34m)\u001b[0m\u001b[0;34m\u001b[0m\u001b[0;34m\u001b[0m\u001b[0m\n",
            "\u001b[0;31mFileNotFoundError\u001b[0m: [Errno 2] No such file or directory: '/home/vithal/Documents/speeh-to-text/sample.json'"
          ]
        }
      ]
    },
    {
      "metadata": {
        "id": "pGL-7L76kcq7",
        "colab_type": "code",
        "colab": {}
      },
      "cell_type": "code",
      "source": [
        ""
      ],
      "execution_count": 0,
      "outputs": []
    }
  ]
}