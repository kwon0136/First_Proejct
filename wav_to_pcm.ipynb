{
  "nbformat": 4,
  "nbformat_minor": 0,
  "metadata": {
    "colab": {
      "name": "wav to pcm.ipynb",
      "version": "0.3.2",
      "provenance": [],
      "include_colab_link": true
    },
    "kernelspec": {
      "name": "python3",
      "display_name": "Python 3"
    }
  },
  "cells": [
    {
      "cell_type": "markdown",
      "metadata": {
        "id": "view-in-github",
        "colab_type": "text"
      },
      "source": [
        "<a href=\"https://colab.research.google.com/github/kwon0136/First_Proejct/blob/master/wav_to_pcm.ipynb\" target=\"_parent\"><img src=\"https://colab.research.google.com/assets/colab-badge.svg\" alt=\"Open In Colab\"/></a>"
      ]
    },
    {
      "metadata": {
        "id": "QtqAPrXx5wWZ",
        "colab_type": "code",
        "colab": {
          "base_uri": "https://localhost:8080/",
          "height": 235
        },
        "outputId": "723c4017-4a85-4069-853c-3c7763d32bc0"
      },
      "cell_type": "code",
      "source": [
        "!pip install librosa\n",
        "import librosa    \n",
        "test = librosa.load('test0202.wav', sr=16000)"
      ],
      "execution_count": 8,
      "outputs": [
        {
          "output_type": "stream",
          "text": [
            "Requirement already satisfied: librosa in /usr/local/lib/python3.6/dist-packages (0.6.3)\n",
            "Requirement already satisfied: scipy>=1.0.0 in /usr/local/lib/python3.6/dist-packages (from librosa) (1.2.1)\n",
            "Requirement already satisfied: numpy>=1.8.0 in /usr/local/lib/python3.6/dist-packages (from librosa) (1.16.3)\n",
            "Requirement already satisfied: audioread>=2.0.0 in /usr/local/lib/python3.6/dist-packages (from librosa) (2.1.6)\n",
            "Requirement already satisfied: decorator>=3.0.0 in /usr/local/lib/python3.6/dist-packages (from librosa) (4.4.0)\n",
            "Requirement already satisfied: six>=1.3 in /usr/local/lib/python3.6/dist-packages (from librosa) (1.12.0)\n",
            "Requirement already satisfied: scikit-learn!=0.19.0,>=0.14.0 in /usr/local/lib/python3.6/dist-packages (from librosa) (0.20.3)\n",
            "Requirement already satisfied: numba>=0.38.0 in /usr/local/lib/python3.6/dist-packages (from librosa) (0.40.1)\n",
            "Requirement already satisfied: resampy>=0.2.0 in /usr/local/lib/python3.6/dist-packages (from librosa) (0.2.1)\n",
            "Requirement already satisfied: joblib>=0.12 in /usr/local/lib/python3.6/dist-packages (from librosa) (0.12.5)\n",
            "Requirement already satisfied: llvmlite>=0.25.0dev0 in /usr/local/lib/python3.6/dist-packages (from numba>=0.38.0->librosa) (0.28.0)\n"
          ],
          "name": "stdout"
        }
      ]
    },
    {
      "metadata": {
        "id": "H8x5OXuK7Ry4",
        "colab_type": "code",
        "colab": {
          "base_uri": "https://localhost:8080/",
          "height": 53
        },
        "outputId": "30d38761-7b18-4152-bc25-8f0063c7531c"
      },
      "cell_type": "code",
      "source": [
        ""
      ],
      "execution_count": 9,
      "outputs": [
        {
          "output_type": "execute_result",
          "data": {
            "text/plain": [
              "(array([ 0.0000000e+00,  0.0000000e+00,  0.0000000e+00, ...,\n",
              "        -1.4871669e-04, -4.0811949e-05,  0.0000000e+00], dtype=float32), 16000)"
            ]
          },
          "metadata": {
            "tags": []
          },
          "execution_count": 9
        }
      ]
    },
    {
      "metadata": {
        "id": "jMFtDiQA6XRl",
        "colab_type": "code",
        "colab": {
          "base_uri": "https://localhost:8080/",
          "height": 35
        },
        "outputId": "d5d712da-42dc-47fd-b420-5ae0cc4a4aa9"
      },
      "cell_type": "code",
      "source": [
        "s"
      ],
      "execution_count": 6,
      "outputs": [
        {
          "output_type": "execute_result",
          "data": {
            "text/plain": [
              "16000"
            ]
          },
          "metadata": {
            "tags": []
          },
          "execution_count": 6
        }
      ]
    },
    {
      "metadata": {
        "id": "f2elvGmg5w7B",
        "colab_type": "code",
        "colab": {
          "base_uri": "https://localhost:8080/",
          "height": 136
        },
        "outputId": "fd291662-7e4e-41a8-bf68-519d04ceb372"
      },
      "cell_type": "code",
      "source": [
        "import sys\n",
        "import os.path\n",
        "\n",
        "file = open(y, 'rb')\n",
        "\n",
        "\n",
        "byteBuffer = bytearray(file.read())\n",
        "\n",
        "file.close()\n",
        "\n",
        "\n",
        "\n",
        "fn_ext = os.path.splitext('test')\n",
        "\n",
        "if fn_ext[1] == '.wav':\n",
        "\n",
        "   out_filename = fn_ext[0] + '.pcm'\n",
        "\n",
        "else:\n",
        "\n",
        "   out_filename = fn_ext[0] + fn_ext[1] + '.pcm'\n",
        "\n",
        "print 'Out file name: %s' % out_filename\n",
        "\n",
        "\n",
        "out_file = open(out_filename, 'wb')\n",
        "\n",
        "out_file.write(byteBuffer[44:])\n",
        "\n",
        "out_file.close()\n",
        "\n",
        "      \n",
        "\n",
        "raw_input('Press Enter to exit')\n",
        "\n",
        "exit(0)"
      ],
      "execution_count": 10,
      "outputs": [
        {
          "output_type": "error",
          "ename": "SyntaxError",
          "evalue": "ignored",
          "traceback": [
            "\u001b[0;36m  File \u001b[0;32m\"<ipython-input-10-a201463f69c5>\"\u001b[0;36m, line \u001b[0;32m23\u001b[0m\n\u001b[0;31m    print 'Out file name: %s' % out_filename\u001b[0m\n\u001b[0m                            ^\u001b[0m\n\u001b[0;31mSyntaxError\u001b[0m\u001b[0;31m:\u001b[0m Missing parentheses in call to 'print'. Did you mean print('Out file name: %s' % out_filename)?\n"
          ]
        }
      ]
    },
    {
      "metadata": {
        "id": "Bb_xy4wD6O05",
        "colab_type": "code",
        "colab": {}
      },
      "cell_type": "code",
      "source": [
        ""
      ],
      "execution_count": 0,
      "outputs": []
    }
  ]
}