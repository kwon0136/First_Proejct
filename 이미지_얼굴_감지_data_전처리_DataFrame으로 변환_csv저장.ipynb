{
  "nbformat": 4,
  "nbformat_minor": 0,
  "metadata": {
    "colab": {
      "name": "Face REST API 및 Python을 사용하여 이미지에서 얼굴 감지_data 전처리 후 csv로 저장.ipynb",
      "version": "0.3.2",
      "provenance": [],
      "collapsed_sections": [],
      "include_colab_link": true
    },
    "kernelspec": {
      "name": "python3",
      "display_name": "Python 3"
    }
  },
  "cells": [
    {
      "cell_type": "markdown",
      "metadata": {
        "id": "view-in-github",
        "colab_type": "text"
      },
      "source": [
        "<a href=\"https://colab.research.google.com/github/kwon0136/First_Proejct/blob/master/%EC%9D%B4%EB%AF%B8%EC%A7%80_%EC%96%BC%EA%B5%B4_%EA%B0%90%EC%A7%80_data_%EC%A0%84%EC%B2%98%EB%A6%AC_DataFrame%EC%9C%BC%EB%A1%9C%20%EB%B3%80%ED%99%98_csv%EC%A0%80%EC%9E%A5.ipynb\" target=\"_parent\"><img src=\"https://colab.research.google.com/assets/colab-badge.svg\" alt=\"Open In Colab\"/></a>"
      ]
    },
    {
      "metadata": {
        "id": "jBVZbZAg0MvS",
        "colab_type": "code",
        "colab": {}
      },
      "cell_type": "code",
      "source": [
        "import requests\n",
        "import json\n",
        "\n",
        "subscription_key = '4a4da3a3c1ed4365abd0c7faa4d4eae5'\n",
        "assert subscription_key\n",
        "\n",
        "face_api_url = 'https://koreacentral.api.cognitive.microsoft.com/face/v1.0/detect'\n",
        "\n",
        "image_url = 'https://i.ytimg.com/vi/c_ExJcmqwyY/maxresdefault.jpg'\n",
        "\n",
        "headers = { 'Ocp-Apim-Subscription-Key': subscription_key }\n",
        "    \n",
        "params = {\n",
        "    'returnFaceId': 'true',\n",
        "    'returnFaceLandmarks': 'false',\n",
        "    'returnFaceAttributes': 'age,gender,headPose,smile,facialHair,glasses,emotion,hair,makeup,occlusion,accessories,blur,exposure,noise'}\n",
        "\n",
        "\n",
        "respond = requests.post(face_api_url, params=params, headers=headers, json={\"url\": image_url})\n",
        "  \n",
        "\n",
        "\n",
        "\n",
        "d = json.dumps(response.json())\n",
        "\n",
        "d = json.loads(d)"
      ],
      "execution_count": 0,
      "outputs": []
    },
    {
      "metadata": {
        "id": "A4Ay0xULot-q",
        "colab_type": "text"
      },
      "cell_type": "markdown",
      "source": [
        "import json\n",
        "\n",
        "d = json.loads(j)\n",
        "print d['glossary']['title']"
      ]
    },
    {
      "metadata": {
        "id": "uIE-uAGqnf-H",
        "colab_type": "code",
        "colab": {}
      },
      "cell_type": "code",
      "source": [
        "a = d[0]['faceAttributes']['emotion']"
      ],
      "execution_count": 0,
      "outputs": []
    },
    {
      "metadata": {
        "id": "Yqh8KuISrGRo",
        "colab_type": "code",
        "colab": {
          "base_uri": "https://localhost:8080/",
          "height": 161
        },
        "outputId": "a23fa1dc-6429-40bf-8f5d-c0e90a4a3d62"
      },
      "cell_type": "code",
      "source": [
        ""
      ],
      "execution_count": 156,
      "outputs": [
        {
          "output_type": "execute_result",
          "data": {
            "text/plain": [
              "{'anger': 0.0,\n",
              " 'contempt': 0.283,\n",
              " 'disgust': 0.0,\n",
              " 'fear': 0.0,\n",
              " 'happiness': 0.696,\n",
              " 'neutral': 0.021,\n",
              " 'sadness': 0.0,\n",
              " 'surprise': 0.0}"
            ]
          },
          "metadata": {
            "tags": []
          },
          "execution_count": 156
        }
      ]
    },
    {
      "metadata": {
        "id": "z_IAqkzpwwkt",
        "colab_type": "text"
      },
      "cell_type": "markdown",
      "source": [
        "b = pd.DataFrame(a.items(), columns = ['emotion', 'score'])\n",
        "\n",
        "columns =[]: colume name 지정\n",
        "\n",
        "b.set_index('emotion', inplace = True)\n",
        "\n",
        "emotion을 index로 지정\n",
        "\n",
        "inplace = True: 덮어쓰기(default index 삭제)"
      ]
    },
    {
      "metadata": {
        "id": "zMU6zQg0s15m",
        "colab_type": "code",
        "colab": {
          "base_uri": "https://localhost:8080/",
          "height": 328
        },
        "outputId": "2985bebd-a7dc-4378-d959-634d8c86fe7e"
      },
      "cell_type": "code",
      "source": [
        "import pandas as pd\n",
        "\n",
        "b = pd.DataFrame(a.items(), columns = ['emotion', 'score'])\n",
        "\n",
        "b.set_index('emotion', inplace = True)\n",
        "\n",
        "b"
      ],
      "execution_count": 164,
      "outputs": [
        {
          "output_type": "execute_result",
          "data": {
            "text/html": [
              "<div>\n",
              "<style scoped>\n",
              "    .dataframe tbody tr th:only-of-type {\n",
              "        vertical-align: middle;\n",
              "    }\n",
              "\n",
              "    .dataframe tbody tr th {\n",
              "        vertical-align: top;\n",
              "    }\n",
              "\n",
              "    .dataframe thead th {\n",
              "        text-align: right;\n",
              "    }\n",
              "</style>\n",
              "<table border=\"1\" class=\"dataframe\">\n",
              "  <thead>\n",
              "    <tr style=\"text-align: right;\">\n",
              "      <th></th>\n",
              "      <th>score</th>\n",
              "    </tr>\n",
              "    <tr>\n",
              "      <th>emotion</th>\n",
              "      <th></th>\n",
              "    </tr>\n",
              "  </thead>\n",
              "  <tbody>\n",
              "    <tr>\n",
              "      <th>anger</th>\n",
              "      <td>0.000</td>\n",
              "    </tr>\n",
              "    <tr>\n",
              "      <th>contempt</th>\n",
              "      <td>0.283</td>\n",
              "    </tr>\n",
              "    <tr>\n",
              "      <th>disgust</th>\n",
              "      <td>0.000</td>\n",
              "    </tr>\n",
              "    <tr>\n",
              "      <th>fear</th>\n",
              "      <td>0.000</td>\n",
              "    </tr>\n",
              "    <tr>\n",
              "      <th>happiness</th>\n",
              "      <td>0.696</td>\n",
              "    </tr>\n",
              "    <tr>\n",
              "      <th>neutral</th>\n",
              "      <td>0.021</td>\n",
              "    </tr>\n",
              "    <tr>\n",
              "      <th>sadness</th>\n",
              "      <td>0.000</td>\n",
              "    </tr>\n",
              "    <tr>\n",
              "      <th>surprise</th>\n",
              "      <td>0.000</td>\n",
              "    </tr>\n",
              "  </tbody>\n",
              "</table>\n",
              "</div>"
            ],
            "text/plain": [
              "           score\n",
              "emotion         \n",
              "anger      0.000\n",
              "contempt   0.283\n",
              "disgust    0.000\n",
              "fear       0.000\n",
              "happiness  0.696\n",
              "neutral    0.021\n",
              "sadness    0.000\n",
              "surprise   0.000"
            ]
          },
          "metadata": {
            "tags": []
          },
          "execution_count": 164
        }
      ]
    },
    {
      "metadata": {
        "id": "ecQBFDIwuvVI",
        "colab_type": "code",
        "colab": {}
      },
      "cell_type": "code",
      "source": [
        "b.to_csv(\"filename.csv\", mode='w')"
      ],
      "execution_count": 0,
      "outputs": []
    },
    {
      "metadata": {
        "id": "eSkrykYXx6hP",
        "colab_type": "text"
      },
      "cell_type": "markdown",
      "source": [
        "pd.read_csv(\"filename.csv\", index_col=0)\n",
        "\n",
        "index_col=0: index로 사용할 column 지정\n"
      ]
    },
    {
      "metadata": {
        "id": "e8PatJAiyRmm",
        "colab_type": "text"
      },
      "cell_type": "markdown",
      "source": [
        ""
      ]
    },
    {
      "metadata": {
        "id": "hdjqjXjvvJkq",
        "colab_type": "code",
        "colab": {
          "base_uri": "https://localhost:8080/",
          "height": 328
        },
        "outputId": "edb70269-acf3-46ae-fe08-3ad4d609c835"
      },
      "cell_type": "code",
      "source": [
        "pd.read_csv(\"filename.csv\", index_col=0)"
      ],
      "execution_count": 167,
      "outputs": [
        {
          "output_type": "execute_result",
          "data": {
            "text/html": [
              "<div>\n",
              "<style scoped>\n",
              "    .dataframe tbody tr th:only-of-type {\n",
              "        vertical-align: middle;\n",
              "    }\n",
              "\n",
              "    .dataframe tbody tr th {\n",
              "        vertical-align: top;\n",
              "    }\n",
              "\n",
              "    .dataframe thead th {\n",
              "        text-align: right;\n",
              "    }\n",
              "</style>\n",
              "<table border=\"1\" class=\"dataframe\">\n",
              "  <thead>\n",
              "    <tr style=\"text-align: right;\">\n",
              "      <th></th>\n",
              "      <th>score</th>\n",
              "    </tr>\n",
              "    <tr>\n",
              "      <th>emotion</th>\n",
              "      <th></th>\n",
              "    </tr>\n",
              "  </thead>\n",
              "  <tbody>\n",
              "    <tr>\n",
              "      <th>anger</th>\n",
              "      <td>0.000</td>\n",
              "    </tr>\n",
              "    <tr>\n",
              "      <th>contempt</th>\n",
              "      <td>0.283</td>\n",
              "    </tr>\n",
              "    <tr>\n",
              "      <th>disgust</th>\n",
              "      <td>0.000</td>\n",
              "    </tr>\n",
              "    <tr>\n",
              "      <th>fear</th>\n",
              "      <td>0.000</td>\n",
              "    </tr>\n",
              "    <tr>\n",
              "      <th>happiness</th>\n",
              "      <td>0.696</td>\n",
              "    </tr>\n",
              "    <tr>\n",
              "      <th>neutral</th>\n",
              "      <td>0.021</td>\n",
              "    </tr>\n",
              "    <tr>\n",
              "      <th>sadness</th>\n",
              "      <td>0.000</td>\n",
              "    </tr>\n",
              "    <tr>\n",
              "      <th>surprise</th>\n",
              "      <td>0.000</td>\n",
              "    </tr>\n",
              "  </tbody>\n",
              "</table>\n",
              "</div>"
            ],
            "text/plain": [
              "           score\n",
              "emotion         \n",
              "anger      0.000\n",
              "contempt   0.283\n",
              "disgust    0.000\n",
              "fear       0.000\n",
              "happiness  0.696\n",
              "neutral    0.021\n",
              "sadness    0.000\n",
              "surprise   0.000"
            ]
          },
          "metadata": {
            "tags": []
          },
          "execution_count": 167
        }
      ]
    },
    {
      "metadata": {
        "id": "8cRXOME8t9zo",
        "colab_type": "code",
        "colab": {}
      },
      "cell_type": "code",
      "source": [
        ""
      ],
      "execution_count": 0,
      "outputs": []
    },
    {
      "metadata": {
        "id": "A5eIX3nH6D_I",
        "colab_type": "text"
      },
      "cell_type": "markdown",
      "source": [
        "face_api_url = 'https://koreacentral.api.cognitive.microsoft.com/face/v1.0**/detect**'\n",
        "\n",
        "version에 따라 추가 /detect 필요"
      ]
    }
  ]
}