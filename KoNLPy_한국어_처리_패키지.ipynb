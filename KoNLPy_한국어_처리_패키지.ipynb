{
  "nbformat": 4,
  "nbformat_minor": 0,
  "metadata": {
    "colab": {
      "name": "KoNLPy 한국어 처리 패키지.ipynb",
      "version": "0.3.2",
      "provenance": [],
      "collapsed_sections": [],
      "include_colab_link": true
    },
    "kernelspec": {
      "name": "python3",
      "display_name": "Python 3"
    }
  },
  "cells": [
    {
      "cell_type": "markdown",
      "metadata": {
        "id": "view-in-github",
        "colab_type": "text"
      },
      "source": [
        "<a href=\"https://colab.research.google.com/github/kwon0136/First_Proejct/blob/master/KoNLPy_%ED%95%9C%EA%B5%AD%EC%96%B4_%EC%B2%98%EB%A6%AC_%ED%8C%A8%ED%82%A4%EC%A7%80.ipynb\" target=\"_parent\"><img src=\"https://colab.research.google.com/assets/colab-badge.svg\" alt=\"Open In Colab\"/></a>"
      ]
    },
    {
      "metadata": {
        "id": "k6ZPySsz3-0D",
        "colab_type": "text"
      },
      "cell_type": "markdown",
      "source": [
        "KoNLPy(코엔엘파이라고 읽는다)는 한국어 정보처리를 위한 파이썬 패키지이다. 자세한 내용은 다음 웹사이트를 참조한다.\n"
      ]
    },
    {
      "metadata": {
        "id": "jwrio7DV3DjR",
        "colab_type": "code",
        "colab": {
          "base_uri": "https://localhost:8080/",
          "height": 199
        },
        "outputId": "0c2df882-517f-485c-ffbc-f5b96e3f5ee6"
      },
      "cell_type": "code",
      "source": [
        "pip install JPype1"
      ],
      "execution_count": 4,
      "outputs": [
        {
          "output_type": "stream",
          "text": [
            "Collecting JPype1\n",
            "\u001b[?25l  Downloading https://files.pythonhosted.org/packages/c4/4b/60a3e63d51714d4d7ef1b1efdf84315d118a0a80a5b085bb52a7e2428cdc/JPype1-0.6.3.tar.gz (168kB)\n",
            "\u001b[K     |████████████████████████████████| 174kB 2.8MB/s \n",
            "\u001b[?25hBuilding wheels for collected packages: JPype1\n",
            "  Building wheel for JPype1 (setup.py) ... \u001b[?25l\u001b[?25hdone\n",
            "  Stored in directory: /root/.cache/pip/wheels/0e/2b/e8/c0b818ac4b3d35104d35e48cdc7afe27fc06ea277feed2831a\n",
            "Successfully built JPype1\n",
            "Installing collected packages: JPype1\n",
            "Successfully installed JPype1-0.6.3\n"
          ],
          "name": "stdout"
        }
      ]
    },
    {
      "metadata": {
        "id": "TVh-utRA3P7z",
        "colab_type": "code",
        "colab": {
          "base_uri": "https://localhost:8080/",
          "height": 181
        },
        "outputId": "12c39656-c7e7-4890-8e82-74475d04f9f6"
      },
      "cell_type": "code",
      "source": [
        "pip install cpp"
      ],
      "execution_count": 5,
      "outputs": [
        {
          "output_type": "stream",
          "text": [
            "Collecting cpp\n",
            "  Downloading https://files.pythonhosted.org/packages/0c/32/43e5394177458f2d5c411ced4253be193644c8f4361d606a40eb30a77f3d/cpp-1.0.tar.gz\n",
            "Building wheels for collected packages: cpp\n",
            "  Building wheel for cpp (setup.py) ... \u001b[?25l\u001b[?25hdone\n",
            "  Stored in directory: /root/.cache/pip/wheels/97/71/32/809225326ed84a830535f40a906e46ab02dbddae9564862cca\n",
            "Successfully built cpp\n",
            "Installing collected packages: cpp\n",
            "Successfully installed cpp-1.0\n"
          ],
          "name": "stdout"
        }
      ]
    },
    {
      "metadata": {
        "id": "_TphdDC23VsB",
        "colab_type": "code",
        "colab": {
          "base_uri": "https://localhost:8080/",
          "height": 145
        },
        "outputId": "554508b0-2de7-4ae6-cc1c-ccf845ccba1e"
      },
      "cell_type": "code",
      "source": [
        "pip install konlpy"
      ],
      "execution_count": 6,
      "outputs": [
        {
          "output_type": "stream",
          "text": [
            "Collecting konlpy\n",
            "\u001b[?25l  Downloading https://files.pythonhosted.org/packages/e5/3d/4e983cd98d87b50b2ab0387d73fa946f745aa8164e8888a714d5129f9765/konlpy-0.5.1-py2.py3-none-any.whl (19.4MB)\n",
            "\u001b[K     |████████████████████████████████| 19.4MB 2.6MB/s \n",
            "\u001b[?25hRequirement already satisfied: JPype1>=0.5.7 in /usr/local/lib/python3.6/dist-packages (from konlpy) (0.6.3)\n",
            "Installing collected packages: konlpy\n",
            "Successfully installed konlpy-0.5.1\n"
          ],
          "name": "stdout"
        }
      ]
    },
    {
      "metadata": {
        "id": "049jXB583rsQ",
        "colab_type": "code",
        "colab": {
          "base_uri": "https://localhost:8080/",
          "height": 343
        },
        "outputId": "425cd31f-f164-4167-ac48-994a361533c5"
      },
      "cell_type": "code",
      "source": [
        "pip install gensim"
      ],
      "execution_count": 7,
      "outputs": [
        {
          "output_type": "stream",
          "text": [
            "Requirement already satisfied: gensim in /usr/local/lib/python3.6/dist-packages (3.6.0)\n",
            "Requirement already satisfied: six>=1.5.0 in /usr/local/lib/python3.6/dist-packages (from gensim) (1.12.0)\n",
            "Requirement already satisfied: smart-open>=1.2.1 in /usr/local/lib/python3.6/dist-packages (from gensim) (1.8.3)\n",
            "Requirement already satisfied: scipy>=0.18.1 in /usr/local/lib/python3.6/dist-packages (from gensim) (1.2.1)\n",
            "Requirement already satisfied: numpy>=1.11.3 in /usr/local/lib/python3.6/dist-packages (from gensim) (1.16.3)\n",
            "Requirement already satisfied: requests in /usr/local/lib/python3.6/dist-packages (from smart-open>=1.2.1->gensim) (2.21.0)\n",
            "Requirement already satisfied: boto3 in /usr/local/lib/python3.6/dist-packages (from smart-open>=1.2.1->gensim) (1.9.137)\n",
            "Requirement already satisfied: boto>=2.32 in /usr/local/lib/python3.6/dist-packages (from smart-open>=1.2.1->gensim) (2.49.0)\n",
            "Requirement already satisfied: chardet<3.1.0,>=3.0.2 in /usr/local/lib/python3.6/dist-packages (from requests->smart-open>=1.2.1->gensim) (3.0.4)\n",
            "Requirement already satisfied: certifi>=2017.4.17 in /usr/local/lib/python3.6/dist-packages (from requests->smart-open>=1.2.1->gensim) (2019.3.9)\n",
            "Requirement already satisfied: idna<2.9,>=2.5 in /usr/local/lib/python3.6/dist-packages (from requests->smart-open>=1.2.1->gensim) (2.8)\n",
            "Requirement already satisfied: urllib3<1.25,>=1.21.1 in /usr/local/lib/python3.6/dist-packages (from requests->smart-open>=1.2.1->gensim) (1.24.2)\n",
            "Requirement already satisfied: s3transfer<0.3.0,>=0.2.0 in /usr/local/lib/python3.6/dist-packages (from boto3->smart-open>=1.2.1->gensim) (0.2.0)\n",
            "Requirement already satisfied: jmespath<1.0.0,>=0.7.1 in /usr/local/lib/python3.6/dist-packages (from boto3->smart-open>=1.2.1->gensim) (0.9.4)\n",
            "Requirement already satisfied: botocore<1.13.0,>=1.12.137 in /usr/local/lib/python3.6/dist-packages (from boto3->smart-open>=1.2.1->gensim) (1.12.137)\n",
            "Requirement already satisfied: python-dateutil<3.0.0,>=2.1; python_version >= \"2.7\" in /usr/local/lib/python3.6/dist-packages (from botocore<1.13.0,>=1.12.137->boto3->smart-open>=1.2.1->gensim) (2.5.3)\n",
            "Requirement already satisfied: docutils>=0.10 in /usr/local/lib/python3.6/dist-packages (from botocore<1.13.0,>=1.12.137->boto3->smart-open>=1.2.1->gensim) (0.14)\n"
          ],
          "name": "stdout"
        }
      ]
    },
    {
      "metadata": {
        "id": "IA0e2p6q3u_e",
        "colab_type": "code",
        "colab": {
          "base_uri": "https://localhost:8080/",
          "height": 53
        },
        "outputId": "d05b97f4-6ff6-4872-9ae3-e6cd0f4936b5"
      },
      "cell_type": "code",
      "source": [
        "pip install bs4"
      ],
      "execution_count": 8,
      "outputs": [
        {
          "output_type": "stream",
          "text": [
            "Requirement already satisfied: bs4 in /usr/local/lib/python3.6/dist-packages (0.0.1)\n",
            "Requirement already satisfied: beautifulsoup4 in /usr/local/lib/python3.6/dist-packages (from bs4) (4.6.3)\n"
          ],
          "name": "stdout"
        }
      ]
    },
    {
      "metadata": {
        "id": "NtGPHEjT4Ecx",
        "colab_type": "text"
      },
      "cell_type": "markdown",
      "source": [
        "## 한국어 말뭉치\n",
        "KoNLPy에서는 대한민국 헌법 말뭉치인 kolaw와 국회법안 말뭉치인 kobill을 제공한다. 각 말뭉치가 포함하는 파일의 이름은 fields 메서드로 알 수 있고 open 메서드로 해당 파일의 텍스트를 읽어들인다."
      ]
    },
    {
      "metadata": {
        "id": "Lgixb7jD3x5m",
        "colab_type": "code",
        "colab": {
          "base_uri": "https://localhost:8080/",
          "height": 35
        },
        "outputId": "4d0ef60b-acb1-471f-e186-81ecb4f6064f"
      },
      "cell_type": "code",
      "source": [
        "from konlpy.corpus import kolaw\n",
        "kolaw.fileids()"
      ],
      "execution_count": 9,
      "outputs": [
        {
          "output_type": "execute_result",
          "data": {
            "text/plain": [
              "['constitution.txt']"
            ]
          },
          "metadata": {
            "tags": []
          },
          "execution_count": 9
        }
      ]
    },
    {
      "metadata": {
        "id": "dhwd9vO935OW",
        "colab_type": "code",
        "colab": {
          "base_uri": "https://localhost:8080/",
          "height": 71
        },
        "outputId": "0d364043-fbce-4567-e857-dfc981eb41c9"
      },
      "cell_type": "code",
      "source": [
        "c = kolaw.open('constitution.txt').read()\n",
        "print(c[:40])"
      ],
      "execution_count": 10,
      "outputs": [
        {
          "output_type": "stream",
          "text": [
            "대한민국헌법\n",
            "\n",
            "유구한 역사와 전통에 빛나는 우리 대한국민은 3·1운동으로\n"
          ],
          "name": "stdout"
        }
      ]
    },
    {
      "metadata": {
        "id": "6480jnUV4M8B",
        "colab_type": "code",
        "colab": {
          "base_uri": "https://localhost:8080/",
          "height": 197
        },
        "outputId": "47ba5371-37ba-4481-f06c-207f43852047"
      },
      "cell_type": "code",
      "source": [
        "from konlpy.corpus import kobill\n",
        "kobill.fileids()"
      ],
      "execution_count": 11,
      "outputs": [
        {
          "output_type": "execute_result",
          "data": {
            "text/plain": [
              "['1809894.txt',\n",
              " '1809895.txt',\n",
              " '1809893.txt',\n",
              " '1809891.txt',\n",
              " '1809896.txt',\n",
              " '1809892.txt',\n",
              " '1809899.txt',\n",
              " '1809898.txt',\n",
              " '1809897.txt',\n",
              " '1809890.txt']"
            ]
          },
          "metadata": {
            "tags": []
          },
          "execution_count": 11
        }
      ]
    },
    {
      "metadata": {
        "id": "_gq4jpCe4Rij",
        "colab_type": "text"
      },
      "cell_type": "markdown",
      "source": [
        "## 형태소 분석\n",
        "KoNLPy는 다음과 같은 다양한 형태소 분석, 태깅 라이브러리를 파이썬에서 쉽게 사용할 수 있도록 모아놓았다.\n",
        "\n",
        "Hannanum: 한나눔. KAIST Semantic Web Research Center 개발.\n",
        "http://semanticweb.kaist.ac.kr/hannanum/\n",
        "Kkma: 꼬꼬마. 서울대학교 IDS(Intelligent Data Systems) 연구실 개발.\n",
        "http://kkma.snu.ac.kr/\n",
        "Komoran: 코모란. Shineware에서 개발.\n",
        "https://github.com/shin285/KOMORAN\n",
        "Mecab: 메카브. 일본어용 형태소 분석기를 한국어를 사용할 수 있도록 수정.\n",
        "https://bitbucket.org/eunjeon/mecab-ko\n",
        "Open Korean Text: 오픈 소스 한국어 분석기. 과거 트위터 형태소 분석기.\n",
        "https://github.com/open-korean-text/open-korean-text\n",
        "여기에서는 한나눔, 꼬꼬마, 오픈코리안텍스트 형태소만 예제로 포함하였다."
      ]
    },
    {
      "metadata": {
        "id": "szuM47x94iYv",
        "colab_type": "code",
        "colab": {}
      },
      "cell_type": "code",
      "source": [
        "from konlpy.tag import *\n",
        "\n",
        "hannanum = Hannanum()\n",
        "kkma = Kkma()\n",
        "komoran = Komoran()\n",
        "okt = Okt()"
      ],
      "execution_count": 0,
      "outputs": []
    },
    {
      "metadata": {
        "id": "pl1VXEwg4mP9",
        "colab_type": "text"
      },
      "cell_type": "markdown",
      "source": [
        "이 클래스들은 다음과 같은 메서드를 공통적으로 제공한다.\n",
        "\n",
        "nouns : 명사 추출\n",
        "morphs : 형태소 추출\n",
        "pos : 품사 부착"
      ]
    },
    {
      "metadata": {
        "id": "BN5fxgWl4o3s",
        "colab_type": "text"
      },
      "cell_type": "markdown",
      "source": [
        "## 명사 추출\n",
        "문자열에서 명사만 추출하려면 noun 명령을 사용한다"
      ]
    },
    {
      "metadata": {
        "id": "enpOrZpT4twH",
        "colab_type": "code",
        "colab": {
          "base_uri": "https://localhost:8080/",
          "height": 35
        },
        "outputId": "851541ce-d4a1-4617-e833-19619539fa38"
      },
      "cell_type": "code",
      "source": [
        "import pandas as pd\n",
        "\n",
        "test = pd.read_csv(\"test.csv\")\n",
        "#test['설명']\n",
        "\n",
        "\n",
        "type(hannanum)\n",
        "\n",
        "#test.nouns(test['설명'])"
      ],
      "execution_count": 19,
      "outputs": [
        {
          "output_type": "execute_result",
          "data": {
            "text/plain": [
              "konlpy.tag._hannanum.Hannanum"
            ]
          },
          "metadata": {
            "tags": []
          },
          "execution_count": 19
        }
      ]
    },
    {
      "metadata": {
        "id": "ZpjkYIGB7yt0",
        "colab_type": "code",
        "colab": {
          "base_uri": "https://localhost:8080/",
          "height": 341
        },
        "outputId": "cc4872df-81ef-4409-c8ac-9254b00653e8"
      },
      "cell_type": "code",
      "source": [
        "from konlpy.tag import *\n",
        "\n",
        "hannanum = Hannanum()\n",
        "kkma = Kkma()\n",
        "komoran = Komoran()\n",
        "okt = Okt()\n",
        "\n",
        "hannanum.nouns(test['설명'][1])"
      ],
      "execution_count": 46,
      "outputs": [
        {
          "output_type": "execute_result",
          "data": {
            "text/plain": [
              "['보물',\n",
              " '제384호',\n",
              " '우진각지붕집',\n",
              " '정면',\n",
              " '3칸',\n",
              " '측면',\n",
              " '2칸',\n",
              " '다포계',\n",
              " '중층',\n",
              " '문루',\n",
              " '1484년(성종',\n",
              " '15',\n",
              " '건립',\n",
              " '임진왜란',\n",
              " '때',\n",
              " '1616년(광해군',\n",
              " '8',\n",
              " '재건']"
            ]
          },
          "metadata": {
            "tags": []
          },
          "execution_count": 46
        }
      ]
    },
    {
      "metadata": {
        "id": "yccl1-LQAWa8",
        "colab_type": "text"
      },
      "cell_type": "markdown",
      "source": [
        "data 양이 많아질 것을 대비해 for문 대신 apply함수 사용"
      ]
    },
    {
      "metadata": {
        "id": "PQVvM4Nd91RJ",
        "colab_type": "code",
        "colab": {
          "base_uri": "https://localhost:8080/",
          "height": 1133
        },
        "outputId": "55151f3e-cdc9-4db4-8db0-81e61f28f5d9"
      },
      "cell_type": "code",
      "source": [
        "test['설명'].apply(hannanum.nouns)"
      ],
      "execution_count": 51,
      "outputs": [
        {
          "output_type": "execute_result",
          "data": {
            "text/plain": [
              "0      [1962년, 12월, 20일, 국보, 제101호, 지정, 전체, 6., 1m, 강...\n",
              "1      [보물, 제384호, 우진각지붕집, 정면, 3칸, 측면, 2칸, 다포계, 중층, 문...\n",
              "2      [조선, 제23대, 순조, 둘째, 복온공주(福溫公主:1818~1832), 부마, 창...\n",
              "3      [면적, 10, 3000, 평, 사적, 제122호, 지정, 창덕궁, 안, 조선시대,...\n",
              "4      [1983년, 서울시유형문화재, 제54호, 지정, 조선, 제11대, 중종, 후궁(後...\n",
              "5      [122., 8cm,, 세, 200., 9cm,, 두, 11., 8cm, 흑요석, ...\n",
              "6      [왕, 편전(便殿), 왕, 신하, 학문, 토론, 장소, 앞면, 6칸, 옆면, 4칸,...\n",
              "7      [태종, 둘째, 아들, 세종, 형, 효령대군보, 사당, 묘소, 정식명칭, 청권사부묘...\n",
              "8      [초안산, 조선시대, 분묘, 양반, 분묘, 서민, 민묘까지, 다양한, 계층, 무덤,...\n",
              "9      [1988년, 4월, 20일, 서울특별시유형문화재, 제70호, 지정, 서울특별시, ...\n",
              "10     [1984년, 서울특별시유형문화재, 제59호, 지정, 조선, 숙종, 때, 우의정, ...\n",
              "11     [칠사, 七祀堂, 칠사위, 사당, 종묘, 창건, 때, 정전, 울타리, 월, 남쪽, ...\n",
              "12     [조선, 제11대왕, 중종, 계비, 문정왕후, 능, 사적, 제201호, 태릉, 채,...\n",
              "13     [서울시, 노원구, 화랑로, 조선, 제13대, 왕, 명종(明宗:재위, 1545∼15...\n",
              "14     [창경궁, 내전, 왕, 생활공간, 연회장소, 공간, 내전, 전각, 중, 가장 상징적...\n",
              "15     [조선시대, 풍향, 관측, 설치, 받침돌, 여기, 풍기죽, 24방향, 풍향, 측정,...\n",
              "16                              [창덕궁, 문, 후원, 입구, 우측, 자리]\n",
              "17     [창경궁, 있는 전각, 임금들, 편전, 사용, 곳, 창경궁 함인정(涵仁亭), 자리,...\n",
              "18     [향대청, 종묘, 향축폐(香祝幣), 제사, 예불, 보관, 제향, 관, 대기, 곳, ...\n",
              "19                [조선, 제23대, 왕, 순조, 비, 순원왕후, 김씨, 합장, 무덤]\n",
              "20                        [조선, 제3대, 왕, 태종, 원경왕후, 민씨, 쌍릉]\n",
              "21     [통, 라, 도선국사, 창건, 갈궁사(葛弓寺), 시초, 이후, 창빈, 안씨(昌嬪 安...\n",
              "22     [경복궁, 근정전(謹政殿), 앞, 둘째문, 경복궁, 내, 광화문, 영제교(永濟橋),...\n",
              "23     [명성황후, 고종, 32년(1895), 일인(日人), 시해, 2년, 뒤, 현재, 서...\n",
              "24     [보물 제384호, 정면, 3칸, 측면, 2칸, 다포계, 중층, 문루, 1484년(...\n",
              "25     [서울특별시, 동작구, 사당동, 조선, 중기, 문신, 한성판윤, 일곱, 번, 이정영...\n",
              "26     [세종대왕, 형, 효령대군, 묘, 효령대군, 태종, 둘째아들, 태종, 12년, 효령...\n",
              "27     [조선, 태종, 둘째, 아들, 세종, 형, 효령대군(孝寧大君), 이보(李補)[원문은...\n",
              "28     [창덕궁, 조선시대, 전각, 보물, 제815호로,, 정면, 11칸, 측면, 4칸, ...\n",
              "29     [사적, 제117호, 도성, 북쪽, 북궐(北闕), 조선왕조, 건립, 창건, 초, 정...\n",
              "                             ...                        \n",
              "105    [악공(樂工), 관아, 음악, 담당, 음악, 들, 말, 악공청, 일, 관장, 조직체...\n",
              "106    [안중근의사, 동상, 독립운동, 투신, 순국, 안중근의사, 숭고, 뜻, 애국정신, ...\n",
              "107    [1925년, 을축년, 대홍수, 때, 일부, 파손, 채, 발견, 수렵·채집, 생활,...\n",
              "108    [서울특별시, 종로구, 훈정동, 조선, 전기, 우물, 조선시대, 역대, 임금, 종묘...\n",
              "109    [서울특별시, 구로구, 고척2동, 조선시대, 묘역, 여계묘역, 함양, 여씨, 선조,...\n",
              "110        [서울특별시, 도봉구, 방학동, 조선, 10대, 왕, 연산군, 부인, 씨, 묘소]\n",
              "111    [조선시대, 정궁, 경복궁, 서편, 문, 내용, 서울특별시, 종로구, 세종로, 1번...\n",
              "112             [조선시대, 대명, 사대외교, 표상물, 모화관, 앞, 일각문터, 주초석]\n",
              "113                [영제교, 광화문, 흥례문, 근정문, 사이, 다리, 근정전, 다리]\n",
              "114    [영춘헌(迎春軒), 창경궁, 북쪽, 침전, 건물, 정조, 서재, 이곳, 정조, 대,...\n",
              "115    [서울특별시, 동대문구, 청량리동, 조선, 제26대왕, 고종, 후비, 순헌귀비, 엄...\n",
              "116    [예장동, 느티나무(서2-6), 위치한, 곳, 일제강점기, 조선총독, 관저, 곳, ...\n",
              "117                            [서울특별시, 종로구, 삼청동, 조선, 주택]\n",
              "118    [서울, 종로구, 와룡동, 창경궁, 창경궁, 정문, 홍화문, 명정문, 사이, 금천,...\n",
              "119                              [서울특별시, 노원구, 월계동, 개량한옥]\n",
              "120    [천, 아우내, 장터, 독립만세운동, 주동, 체포, 옥중, 순국, 유관순, 열사, ...\n",
              "121    [투구, 갑옷, 입, 을지문덕, 장군, 정면, 응시, 왼손, 칼집, 칼, 오른손, 모습]\n",
              "122    [서울특별시, 성북구, 석관동, 조선, 20대, 왕, 경종, 그, 계비, 선의왕후,...\n",
              "123    [조선시대, 이곳, 낙산, 언덕, 배나무, 그곳, 정자, 이름, 이화장, 유래, 조...\n",
              "124    [서울특별시, 종로구, 와룡동창덕궁, 조선시대, 궁문, 정면, 3칸, 측면, 2칸,...\n",
              "125    [창덕궁, 정전, 태종, 이방원, 거처, 이궁(離宮), 창덕궁, 건립, 1405년,...\n",
              "126    [나라, 제사, 증시, 등, 관아, 나라, 전사, 외사(外祀)하, 무, 兆, 시조,...\n",
              "127                           [서울, 용산구, 전쟁, 관련, 기념관, 전시]\n",
              "128    [1930년, 일본, 일본차량주식회사, 제작, 반강제(半鋼製), 보기, 式, 궤도차...\n",
              "129    [서울특별시, 중구, 정동, 덕수궁, 내, 궁중, 건축물, 고종, 휴식, 외교사절단...\n",
              "130                       [영조어진, 별칭, 1900년, 제작, 영조, 초상화]\n",
              "131    [서울특별시, 종로구, 훈정동, 조선시대, 사묘, 조선, 태조, 이성계, 선대, 4...\n",
              "132    [서울, 종로구, 와룡동, 창덕궁, 후원, 규장각, 2층, 건물, 2012년, 8월...\n",
              "133    [서울특별시, 중구, 정동, 덕수궁, 정문, 1985년, 1월, 8일, 보물, 제8...\n",
              "134      [덕수궁, 내전, 임금, 침전, 덕수궁(德壽宮), 전각, 임금, 침전, 사용, 건물]\n",
              "Name: 설명, Length: 135, dtype: object"
            ]
          },
          "metadata": {
            "tags": []
          },
          "execution_count": 51
        }
      ]
    },
    {
      "metadata": {
        "id": "GMjotjMc_rE8",
        "colab_type": "code",
        "colab": {}
      },
      "cell_type": "code",
      "source": [
        ""
      ],
      "execution_count": 0,
      "outputs": []
    }
  ]
}