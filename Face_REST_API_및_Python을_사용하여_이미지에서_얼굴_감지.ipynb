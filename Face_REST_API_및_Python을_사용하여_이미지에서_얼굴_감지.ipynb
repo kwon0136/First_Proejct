{
  "nbformat": 4,
  "nbformat_minor": 0,
  "metadata": {
    "colab": {
      "name": "Face REST API 및 Python을 사용하여 이미지에서 얼굴 감지.ipynb",
      "version": "0.3.2",
      "provenance": [],
      "collapsed_sections": [],
      "include_colab_link": true
    },
    "kernelspec": {
      "name": "python3",
      "display_name": "Python 3"
    }
  },
  "cells": [
    {
      "cell_type": "markdown",
      "metadata": {
        "id": "view-in-github",
        "colab_type": "text"
      },
      "source": [
        "<a href=\"https://colab.research.google.com/github/kwon0136/First_Proejct/blob/master/Face_REST_API_%EB%B0%8F_Python%EC%9D%84_%EC%82%AC%EC%9A%A9%ED%95%98%EC%97%AC_%EC%9D%B4%EB%AF%B8%EC%A7%80%EC%97%90%EC%84%9C_%EC%96%BC%EA%B5%B4_%EA%B0%90%EC%A7%80.ipynb\" target=\"_parent\"><img src=\"https://colab.research.google.com/assets/colab-badge.svg\" alt=\"Open In Colab\"/></a>"
      ]
    },
    {
      "metadata": {
        "id": "jBVZbZAg0MvS",
        "colab_type": "code",
        "colab": {
          "base_uri": "https://localhost:8080/",
          "height": 55
        },
        "outputId": "5cd241f5-ff52-49f9-a247-a56ca75609ef"
      },
      "cell_type": "code",
      "source": [
        "import requests\n",
        "import json\n",
        "\n",
        "subscription_key = '4a4da3a3c1ed4365abd0c7faa4d4eae5'\n",
        "assert subscription_key\n",
        "\n",
        "face_api_url = 'https://koreacentral.api.cognitive.microsoft.com/face/v1.0/detect'\n",
        "\n",
        "image_url = 'http://file.osen.co.kr/article/2018/04/25/201804251121776082_5adfe975db74b.jpg'\n",
        "\n",
        "headers = { 'Ocp-Apim-Subscription-Key': subscription_key }\n",
        "    \n",
        "params = {\n",
        "    'returnFaceId': 'true',\n",
        "    'returnFaceLandmarks': 'false',\n",
        "    'returnFaceAttributes': 'age,gender,headPose,smile,facialHair,glasses,emotion,hair,makeup,occlusion,accessories,blur,exposure,noise'}\n",
        "\n",
        "response = requests.post(face_api_url, params=params, headers=headers, json={\"url\": image_url})\n",
        "\n",
        "\n",
        "print(json.dumps(response.json()))"
      ],
      "execution_count": 17,
      "outputs": [
        {
          "output_type": "stream",
          "text": [
            "[{\"faceId\": \"4deb1128-b5a7-41fb-9273-6a22fd4e5c96\", \"faceRectangle\": {\"top\": 307, \"left\": 226, \"width\": 263, \"height\": 263}, \"faceAttributes\": {\"smile\": 0.005, \"headPose\": {\"pitch\": -17.4, \"roll\": -0.2, \"yaw\": -7.9}, \"gender\": \"female\", \"age\": 21.0, \"facialHair\": {\"moustache\": 0.0, \"beard\": 0.0, \"sideburns\": 0.0}, \"glasses\": \"NoGlasses\", \"emotion\": {\"anger\": 0.0, \"contempt\": 0.0, \"disgust\": 0.0, \"fear\": 0.0, \"happiness\": 0.005, \"neutral\": 0.984, \"sadness\": 0.001, \"surprise\": 0.01}, \"blur\": {\"blurLevel\": \"medium\", \"value\": 0.26}, \"exposure\": {\"exposureLevel\": \"goodExposure\", \"value\": 0.67}, \"noise\": {\"noiseLevel\": \"medium\", \"value\": 0.57}, \"makeup\": {\"eyeMakeup\": true, \"lipMakeup\": true}, \"accessories\": [], \"occlusion\": {\"foreheadOccluded\": false, \"eyeOccluded\": false, \"mouthOccluded\": false}, \"hair\": {\"bald\": 0.16, \"invisible\": false, \"hairColor\": [{\"color\": \"black\", \"confidence\": 0.87}, {\"color\": \"brown\", \"confidence\": 0.86}, {\"color\": \"blond\", \"confidence\": 0.51}, {\"color\": \"gray\", \"confidence\": 0.51}, {\"color\": \"other\", \"confidence\": 0.24}, {\"color\": \"red\", \"confidence\": 0.07}]}}}]\n"
          ],
          "name": "stdout"
        }
      ]
    },
    {
      "metadata": {
        "id": "A5eIX3nH6D_I",
        "colab_type": "text"
      },
      "cell_type": "markdown",
      "source": [
        "face_api_url = 'https://koreacentral.api.cognitive.microsoft.com/face/v1.0**/detect**'\n",
        "\n",
        "version에 따라 추가 /detect 필요"
      ]
    },
    {
      "metadata": {
        "id": "NrNynBoA0i1p",
        "colab_type": "code",
        "colab": {
          "base_uri": "https://localhost:8080/",
          "height": 35
        },
        "outputId": "a951319f-43d4-4a6f-bdaa-8b97d54cc1e6"
      },
      "cell_type": "code",
      "source": [
        ""
      ],
      "execution_count": 15,
      "outputs": [
        {
          "output_type": "execute_result",
          "data": {
            "text/plain": [
              "<module 'json' from '/usr/lib/python3.6/json/__init__.py'>"
            ]
          },
          "metadata": {
            "tags": []
          },
          "execution_count": 15
        }
      ]
    },
    {
      "metadata": {
        "id": "vZl9QLJo4Zrf",
        "colab_type": "code",
        "colab": {}
      },
      "cell_type": "code",
      "source": [
        ""
      ],
      "execution_count": 0,
      "outputs": []
    }
  ]
}