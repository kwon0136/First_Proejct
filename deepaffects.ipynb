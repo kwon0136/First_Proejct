{
  "nbformat": 4,
  "nbformat_minor": 0,
  "metadata": {
    "colab": {
      "name": "deepaffects.ipynb",
      "version": "0.3.2",
      "provenance": [],
      "include_colab_link": true
    },
    "kernelspec": {
      "name": "python3",
      "display_name": "Python 3"
    }
  },
  "cells": [
    {
      "cell_type": "markdown",
      "metadata": {
        "id": "view-in-github",
        "colab_type": "text"
      },
      "source": [
        "<a href=\"https://colab.research.google.com/github/kwon0136/First_Proejct/blob/master/deepaffects.ipynb\" target=\"_parent\"><img src=\"https://colab.research.google.com/assets/colab-badge.svg\" alt=\"Open In Colab\"/></a>"
      ]
    },
    {
      "metadata": {
        "id": "mGX3h3xHadZG",
        "colab_type": "code",
        "colab": {}
      },
      "cell_type": "code",
      "source": [
        "import deepaffects\n",
        "\n",
        "# Configure API key authorization: UserSecurity\n",
        "deepaffects.configuration.api_key['apikey'] = '3Fxo0PSiJTJErPvtiR6K83SkXRy82Ylv'"
      ],
      "execution_count": 0,
      "outputs": []
    },
    {
      "metadata": {
        "id": "PVtqfrqCbjW1",
        "colab_type": "code",
        "outputId": "82fd3caa-9cb4-4860-8e90-8dfca27c2380",
        "colab": {
          "base_uri": "https://localhost:8080/",
          "height": 145
        }
      },
      "cell_type": "code",
      "source": [
        "!pip install m3u8"
      ],
      "execution_count": 0,
      "outputs": [
        {
          "output_type": "stream",
          "text": [
            "Collecting m3u8\n",
            "  Downloading https://files.pythonhosted.org/packages/47/cd/5295ed413e29c7776a1c5c278139e536544d1ff0019b120dc64ed81e2850/m3u8-0.3.8-py3-none-any.whl\n",
            "Collecting iso8601 (from m3u8)\n",
            "  Downloading https://files.pythonhosted.org/packages/ef/57/7162609dab394d38bbc7077b7ba0a6f10fb09d8b7701ea56fa1edc0c4345/iso8601-0.1.12-py2.py3-none-any.whl\n",
            "Installing collected packages: iso8601, m3u8\n",
            "Successfully installed iso8601-0.1.12 m3u8-0.3.8\n"
          ],
          "name": "stdout"
        }
      ]
    },
    {
      "metadata": {
        "id": "w0Ih8cLHackZ",
        "colab_type": "code",
        "outputId": "7414a872-ed97-4414-9d03-9e68fac6ba3b",
        "colab": {
          "base_uri": "https://localhost:8080/",
          "height": 377
        }
      },
      "cell_type": "code",
      "source": [
        "import m3u8\n",
        "from deepaffects.realtime.util import chunk_generator_from_file, chunk_generator_from_url, get_deepaffects_client\n",
        "\n",
        "\n",
        "TIMEOUT_SECONDS = 2000\n",
        "apikey = \"J8dlRUvZ1Lv5EdDTdtz01bA7VVG7IoDD\"\n",
        "\n",
        "\n",
        "file_path = \"test6.m4a\"\n",
        "\n",
        "is_youtube_url = False\n",
        "languageCode = \"kor\"\n",
        "sampleRate = \"16000\"\n",
        "encoding = \"m4a\"\n",
        "\n",
        "client = get_deepaffects_client()\n",
        "\n",
        "metadata = [('apikey', apikey), ('encoding', encoding), ('samplerate', sampleRate), ('languagecode', languageCode)]\n",
        "\n",
        "responses = client.IdentifyEmotion(chunk_generator_from_file(file_path), TIMEOUT_SECONDS, metadata=metadata)\n",
        "\n",
        "\n",
        "for response in responses:\n",
        "  print(\"Received message\",response)"
      ],
      "execution_count": 13,
      "outputs": [
        {
          "output_type": "stream",
          "text": [
            "Sending chunk 0 - with size :- 12.121 sec\n",
            "Received message end: 3.0\n",
            "emotion: \"anger\"\n",
            "\n",
            "Received message start: 3.0\n",
            "end: 6.0\n",
            "emotion: \"frustration\"\n",
            "\n",
            "Received message start: 6.0\n",
            "end: 9.0\n",
            "emotion: \"anger\"\n",
            "\n",
            "Received message start: 9.0\n",
            "end: 12.0\n",
            "emotion: \"frustration\"\n",
            "\n",
            "Received message start: 12.0\n",
            "end: 12.1\n",
            "emotion: \"neutral\"\n",
            "\n"
          ],
          "name": "stdout"
        }
      ]
    },
    {
      "metadata": {
        "id": "1dBcqNDGa0WS",
        "colab_type": "code",
        "outputId": "f5d8e6f9-d6ce-46e8-a9e2-fa02905c6459",
        "colab": {
          "base_uri": "https://localhost:8080/",
          "height": 71
        }
      },
      "cell_type": "code",
      "source": [
        "import urllib3\n",
        "import json\n",
        "import base64\n",
        "openApiURL = \"http://aiopen.etri.re.kr:8000/WiseASR/Recognition\"\n",
        "accessKey = \"401c8611-d813-426d-9df2-7e6923ec6d3a\"\n",
        "audioFilePath = \"test6.m4a\"\n",
        "languageCode = \"korean\"\n",
        " \n",
        "file = open(audioFilePath, \"rb\")\n",
        "audioContents = base64.b64encode(file.read()).decode(\"utf8\")\n",
        "file.close()\n",
        " \n",
        "requestJson = {\n",
        "    \"access_key\": accessKey,\n",
        "    \"argument\": {\n",
        "        \"language_code\": languageCode,\n",
        "        \"audio\": audioContents\n",
        "    }\n",
        "}\n",
        " \n",
        "http = urllib3.PoolManager()\n",
        "response = http.request(\n",
        "    \"POST\",\n",
        "    openApiURL,\n",
        "    headers={\"Content-Type\": \"application/json; charset=UTF-8\"},\n",
        "    body=json.dumps(requestJson)\n",
        ")\n",
        " \n",
        "print(\"[responseCode] \" + str(response.status))\n",
        "print(\"[responBody]\")\n",
        "print(response.data)"
      ],
      "execution_count": 16,
      "outputs": [
        {
          "output_type": "stream",
          "text": [
            "[responseCode] 200\n",
            "[responBody]\n",
            "b'{\"result\":0,\"return_object\":{\"recognized\":\"\\xeb\\x8b\\xa4 \"}}'\n"
          ],
          "name": "stdout"
        }
      ]
    },
    {
      "metadata": {
        "id": "Dh-eSt569cyV",
        "colab_type": "code",
        "colab": {}
      },
      "cell_type": "code",
      "source": [
        ""
      ],
      "execution_count": 0,
      "outputs": []
    }
  ]
}